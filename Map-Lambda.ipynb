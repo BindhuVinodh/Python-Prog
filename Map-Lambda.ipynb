{
 "cells": [
  {
   "cell_type": "markdown",
   "metadata": {},
   "source": [
    "#Map Function"
   ]
  },
  {
   "cell_type": "code",
   "execution_count": 2,
   "metadata": {},
   "outputs": [],
   "source": [
    "#Traditional way to get a list of numbers and output the square of those numbers\n",
    "\n",
    "items = [1, 2, 3, 4, 5]\n",
    "squared = []\n",
    "for i in items:\n",
    "    squared.append(i**2)\n",
    "\n",
    "\n"
   ]
  },
  {
   "cell_type": "code",
   "execution_count": 5,
   "metadata": {},
   "outputs": [
    {
     "name": "stdout",
     "output_type": "stream",
     "text": [
      "[1, 4, 9, 16, 25]\n"
     ]
    }
   ],
   "source": [
    "print(squared)"
   ]
  },
  {
   "cell_type": "code",
   "execution_count": 6,
   "metadata": {},
   "outputs": [
    {
     "name": "stdout",
     "output_type": "stream",
     "text": [
      "[1, 4, 9, 16, 25]\n"
     ]
    }
   ],
   "source": [
    "#Using Map to do the same operation\n",
    "\n",
    "items = [1, 2, 3, 4, 5]\n",
    "squared = list(map(lambda x: x**2, items))\n",
    "print(squared)"
   ]
  },
  {
   "cell_type": "code",
   "execution_count": 9,
   "metadata": {},
   "outputs": [
    {
     "name": "stdout",
     "output_type": "stream",
     "text": [
      "Square and double of $i : [0, 0]\n",
      "Square and double of $i : [1, 2]\n",
      "Square and double of $i : [4, 4]\n",
      "Square and double of $i : [9, 6]\n",
      "Square and double of $i : [16, 8]\n"
     ]
    }
   ],
   "source": [
    "\n",
    "def square(x):\n",
    "    return (x*x)\n",
    "def double(x):\n",
    "    return (x+x)\n",
    "\n",
    "func = [square, double]\n",
    "\n",
    "for i in range(5):\n",
    "    value = list(map(lambda x : x(i), func))\n",
    "    print(\"Square and double of $i :\" , value)\n",
    "    \n",
    "\n",
    "    "
   ]
  },
  {
   "cell_type": "code",
   "execution_count": 18,
   "metadata": {},
   "outputs": [
    {
     "data": {
      "text/plain": [
       "[True, False]"
      ]
     },
     "execution_count": 18,
     "metadata": {},
     "output_type": "execute_result"
    }
   ],
   "source": [
    "#Iterating Over a Dictionary Using Map and Lambda\n",
    "\n",
    "dict_a = [{'name':'python' , 'points': 10} ,{'name':'Java','points' : 8}]\n",
    "list(map(lambda x : x['name'],dict_a))\n",
    "\n",
    "list(map(lambda x : x['points']*10,dict_a))\n",
    "\n",
    "list(map(lambda x : x['name'] == \"python\", dict_a)) # Output: [True, False]\n"
   ]
  },
  {
   "cell_type": "code",
   "execution_count": null,
   "metadata": {},
   "outputs": [],
   "source": []
  }
 ],
 "metadata": {
  "kernelspec": {
   "display_name": "Python 3",
   "language": "python",
   "name": "python3"
  },
  "language_info": {
   "codemirror_mode": {
    "name": "ipython",
    "version": 3
   },
   "file_extension": ".py",
   "mimetype": "text/x-python",
   "name": "python",
   "nbconvert_exporter": "python",
   "pygments_lexer": "ipython3",
   "version": "3.7.0"
  }
 },
 "nbformat": 4,
 "nbformat_minor": 2
}
