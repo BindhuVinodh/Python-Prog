{
 "cells": [
  {
   "cell_type": "markdown",
   "metadata": {},
   "source": [
    "Python | Inserting item in sorted list maintaining order\n",
    "Working with sorted list is essential because mostly the data we get is ordered. Any query can come to insert the new data into its appropriate position. Hence requires to know how to perform these dynamic queries. Lets discuss certain ways in which this can be performed.\n"
   ]
  },
  {
   "cell_type": "markdown",
   "metadata": {},
   "source": [
    "Method #1 : Naive Method\n",
    "In this method, we just simply test for the value and check if next element is greater than the input element and store the index which is then used to slice in that element at that position.\n"
   ]
  },
  {
   "cell_type": "code",
   "execution_count": 3,
   "metadata": {},
   "outputs": [
    {
     "name": "stdout",
     "output_type": "stream",
     "text": [
      "Input List is: [1, 3, 5, 7, 9, 11]\n",
      "Output List is:[1, 3, 5, 6, 7, 9, 11]\n"
     ]
    }
   ],
   "source": [
    "#Old way\n",
    "\n",
    "input = [1,3,5,7,9,11]\n",
    "print(\"Input List is: \" + str(input))\n",
    "k = 6\n",
    "\n",
    "for i in range(len(input)):\n",
    "    if (input[i] > k):\n",
    "        insert_pos = i\n",
    "        break\n",
    "output = input[ :i]+[k]+input[i: ]\n",
    "\n",
    "print(\"Output List is:\" + str(output))"
   ]
  },
  {
   "cell_type": "markdown",
   "metadata": {},
   "source": [
    " \n",
    "Method #2 : Using bisect.insort()\n",
    "This is more concise and recommended method to perform this particular task. This method is designed for this particular task and performs this task in most efficient manner.\n"
   ]
  },
  {
   "cell_type": "code",
   "execution_count": 7,
   "metadata": {},
   "outputs": [
    {
     "name": "stdout",
     "output_type": "stream",
     "text": [
      "Input List is: [1, 3, 5, 7, 9, 11]\n",
      "Input List is: [1, 3, 5, 6, 7, 9, 11]\n"
     ]
    }
   ],
   "source": [
    "import bisect\n",
    "\n",
    "input_list = [1,3,5,7,9,11]\n",
    "print(\"Input List is: \" + str(input_list))\n",
    "k = 6\n",
    "\n",
    "bisect.insort(input_list,k)\n",
    "\n",
    "print(\"Input List is: \" + str(input_list))\n"
   ]
  },
  {
   "cell_type": "code",
   "execution_count": null,
   "metadata": {},
   "outputs": [],
   "source": []
  }
 ],
 "metadata": {
  "kernelspec": {
   "display_name": "Python 3",
   "language": "python",
   "name": "python3"
  },
  "language_info": {
   "codemirror_mode": {
    "name": "ipython",
    "version": 3
   },
   "file_extension": ".py",
   "mimetype": "text/x-python",
   "name": "python",
   "nbconvert_exporter": "python",
   "pygments_lexer": "ipython3",
   "version": "3.7.0"
  }
 },
 "nbformat": 4,
 "nbformat_minor": 2
}
