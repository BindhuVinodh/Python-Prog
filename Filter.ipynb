{
 "cells": [
  {
   "cell_type": "markdown",
   "metadata": {},
   "source": [
    "The filter function expects two arguments: function_object and an iterable. function_object returns a boolean value and is called for each element of the iterable. Filter returns only those elements for which the function_object returns true.\n"
   ]
  },
  {
   "cell_type": "markdown",
   "metadata": {},
   "source": [
    "Like the map function, the filter function also returns a list of elements. Unlike map, the filter function can only have one iterable as input.\n"
   ]
  },
  {
   "cell_type": "code",
   "execution_count": 4,
   "metadata": {},
   "outputs": [
    {
     "data": {
      "text/plain": [
       "[2, 8, 20, 36]"
      ]
     },
     "execution_count": 4,
     "metadata": {},
     "output_type": "execute_result"
    }
   ],
   "source": [
    "#Filter even numbers in the given list\n",
    "\n",
    "a = [1,2,5,8,19,20,25,36]\n",
    "\n",
    "list(filter(lambda x: x % 2 == 0 , a))"
   ]
  },
  {
   "cell_type": "code",
   "execution_count": 7,
   "metadata": {},
   "outputs": [
    {
     "data": {
      "text/plain": [
       "[{'Name': 'Python', 'Points': 10}]"
      ]
     },
     "execution_count": 7,
     "metadata": {},
     "output_type": "execute_result"
    }
   ],
   "source": [
    "#Filter list of dicts:\n",
    "\n",
    "dict_a = [{'Name' : 'Python' , 'Points' : 10} , {'Name' : 'Java' , 'Points' : 8}]\n",
    "list(filter(lambda x : x['Name'] == 'Python' , dict_a ))\n"
   ]
  },
  {
   "cell_type": "code",
   "execution_count": 11,
   "metadata": {},
   "outputs": [
    {
     "name": "stdout",
     "output_type": "stream",
     "text": [
      "The filtered vowels in the given sequence are\n",
      "e\n",
      "e\n"
     ]
    }
   ],
   "source": [
    "#Function That filters vowels\n",
    "\n",
    "def vowels(variables):\n",
    "    letters = ['a' , 'e' ,'i' , 'o' , 'u']\n",
    "    if (variables in letters):\n",
    "        return True\n",
    "    else:\n",
    "        return False\n",
    "    \n",
    "sequence = ['g', 'e', 'e', 'j', 'k', 's', 'p', 'r']\n",
    "\n",
    "filtered = filter(vowels , sequence)\n",
    "print(\"The filtered vowels in the given sequence are\")\n",
    "for s in filtered:\n",
    "    print(s)"
   ]
  },
  {
   "cell_type": "code",
   "execution_count": 12,
   "metadata": {},
   "outputs": [
    {
     "name": "stdout",
     "output_type": "stream",
     "text": [
      "[1, 3, 5, 13]\n",
      "[0, 2, 8]\n"
     ]
    }
   ],
   "source": [
    "#It is normally used with Lambda functions to separate list, tuple, or sets.\n",
    "\n",
    "# a list contains both even and odd numbers.  \n",
    "seq = [0, 1, 2, 3, 5, 8, 13] \n",
    "\n",
    "# result contains odd numbers of the list \n",
    "result = filter(lambda x: x % 2, seq) \n",
    "print(list(result)) \n",
    "\n",
    "# result contains even numbers of the list \n",
    "result = filter(lambda x: x % 2 == 0, seq) \n",
    "print(list(result)) \n"
   ]
  },
  {
   "cell_type": "code",
   "execution_count": null,
   "metadata": {},
   "outputs": [],
   "source": []
  }
 ],
 "metadata": {
  "kernelspec": {
   "display_name": "Python 3",
   "language": "python",
   "name": "python3"
  },
  "language_info": {
   "codemirror_mode": {
    "name": "ipython",
    "version": 3
   },
   "file_extension": ".py",
   "mimetype": "text/x-python",
   "name": "python",
   "nbconvert_exporter": "python",
   "pygments_lexer": "ipython3",
   "version": "3.7.0"
  }
 },
 "nbformat": 4,
 "nbformat_minor": 2
}
