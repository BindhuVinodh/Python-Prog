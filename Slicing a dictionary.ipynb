{
 "cells": [
  {
   "cell_type": "markdown",
   "metadata": {},
   "source": [
    "Python | Get first N key:value pairs in given dictionary\n"
   ]
  },
  {
   "cell_type": "markdown",
   "metadata": {},
   "source": [
    "Given a dictionary, the task is to get N key:value pairs from given dictionary. This type of problem can be useful while some cases, like fetching first N values in web development.\n",
    "\n",
    "Note that the given dictionary is unordered, the first N pairs will not be same here all the time. In case, you need to maintain order in your problem, you can use ordered dictionary.\n",
    "\n"
   ]
  },
  {
   "cell_type": "code",
   "execution_count": 5,
   "metadata": {},
   "outputs": [
    {
     "name": "stdout",
     "output_type": "stream",
     "text": [
      "The original dictionalry :{'Geek': 1, 'For': 2, 'is': 3, 'best': 4, 'for': 5, 'CS': 6}\n",
      "Dictionary limited by K is :{'Geek': 1, 'For': 2, 'is': 3}\n"
     ]
    }
   ],
   "source": [
    "#Code #1: Using itertools.islice() method\n",
    "\n",
    "import itertools  \n",
    "\n",
    "dict_a = {'Geek' : 1 , 'For' : 2 , 'is' : 3 , 'best' : 4 ,'for' : 5 , 'CS' : 6}\n",
    "\n",
    "#printing the original dictionary\n",
    "print(\"The original dictionalry :\" + str(dict_a))\n",
    "\n",
    "\n",
    "#Initialize the limit\n",
    "N = 3\n",
    "\n",
    "dict_b = dict(itertools.islice(dict_a.items() , N))\n",
    "print(\"Dictionary limited by K is :\"  + str(dict_b))\n",
    "\n",
    "              \n",
    "\n"
   ]
  },
  {
   "cell_type": "code",
   "execution_count": 7,
   "metadata": {},
   "outputs": [
    {
     "name": "stdout",
     "output_type": "stream",
     "text": [
      "The original dictionary : {'Geeks': 1, 'For': 2, 'is': 3, 'best': 4, 'for': 5, 'CS': 6}\n",
      "The truncated dictionary is:{'Geeks': 1, 'For': 2, 'is': 3}\n"
     ]
    }
   ],
   "source": [
    "#Code #2: Using slicing on dictionary item list\n",
    "\n",
    "# Initialize dictionary \n",
    "dict_a = {'Geeks' : 1, 'For':2,  'is' : 3, 'best' : 4, 'for' : 5, 'CS' : 6}  \n",
    "    \n",
    "# printing original dictionary  \n",
    "print(\"The original dictionary : \" +  str(dict_a))  \n",
    "    \n",
    "# Initialize limit  \n",
    "N = 3\n",
    "\n",
    "# Get first K items in dictionary  \n",
    "\n",
    "dict_b = dict(list(dict_a.items())[0:N])\n",
    "\n",
    "print(\"The truncated dictionary is:\" + str(dict_b))\n"
   ]
  },
  {
   "cell_type": "code",
   "execution_count": 10,
   "metadata": {},
   "outputs": [
    {
     "data": {
      "text/plain": [
       "{'Geeks': 1, 'For': 2, 'is': 3}"
      ]
     },
     "execution_count": 10,
     "metadata": {},
     "output_type": "execute_result"
    }
   ],
   "source": [
    "dict_a = {'Geek' : 1 , 'For' : 2 , 'is' : 3 , 'best' : 4 ,'for' : 5 , 'CS' : 6}\n",
    "(itertools.islice(dict_a.items() , N))\n"
   ]
  },
  {
   "cell_type": "code",
   "execution_count": null,
   "metadata": {},
   "outputs": [],
   "source": []
  }
 ],
 "metadata": {
  "kernelspec": {
   "display_name": "Python 3",
   "language": "python",
   "name": "python3"
  },
  "language_info": {
   "codemirror_mode": {
    "name": "ipython",
    "version": 3
   },
   "file_extension": ".py",
   "mimetype": "text/x-python",
   "name": "python",
   "nbconvert_exporter": "python",
   "pygments_lexer": "ipython3",
   "version": "3.7.0"
  }
 },
 "nbformat": 4,
 "nbformat_minor": 2
}
