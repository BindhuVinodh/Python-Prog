{
 "cells": [
  {
   "cell_type": "markdown",
   "metadata": {},
   "source": [
    "Python | Merge Python key values to list\n",
    "Sometimes, while working with Python, we might have a problem in which we need to get the values of dictionary from several dictionaries to be encapsulated into one dictionary. This type of problem can be common in domains in which we work with relational data like in web developments. Let’s discuss certain ways in which this problem can be solved.\n",
    "\n"
   ]
  },
  {
   "cell_type": "markdown",
   "metadata": {},
   "source": [
    "Method #1 : Using setdefault() + loop\n",
    "This task can be performed using a nested loop and fetching each element of dictionary and creating a new list to new key or appending the values in case of similar key occurrence.\n",
    "\n"
   ]
  },
  {
   "cell_type": "code",
   "execution_count": 1,
   "metadata": {},
   "outputs": [
    {
     "name": "stdout",
     "output_type": "stream",
     "text": [
      "The input list is:[{'gfg': 2, 'is': 4, 'best': 5}, {'it': 3, 'is': 7, 'best': 9}, {'CS': 8}]\n",
      "Output dict is :{'gfg': [2], 'is': [4, 7], 'best': [5, 9], 'it': [3], 'CS': [8]}\n"
     ]
    }
   ],
   "source": [
    "#Initialize the list\n",
    "\n",
    "input_list = [ {'gfg' : 2 , 'is' : 4, 'best' : 5 },\n",
    "            {'it' : 3 , 'is' : 7 , 'best' :  9},\n",
    "            {'CS' : 8}]\n",
    "\n",
    "print (\"The input list is:\" + str(input_list))\n",
    "\n",
    "# using setdefault() + loop \n",
    "# Merge Python key values to list \n",
    "\n",
    "res = {}\n",
    "for sub in input_list:\n",
    "    for key,val in sub.items():\n",
    "        res.setdefault(key, []).append(val)\n",
    "\n",
    "print(\"Output dict is :\" + str(res))\n",
    "        "
   ]
  },
  {
   "cell_type": "markdown",
   "metadata": {},
   "source": [
    "Method #2 : Using list comprehension + dictionary comprehension\n",
    "The combination of above can be used to perform this particular task. This offers a one liner that can be employed for this task. Even though it might be efficient on performance domain.\n",
    "\n"
   ]
  },
  {
   "cell_type": "code",
   "execution_count": 6,
   "metadata": {},
   "outputs": [
    {
     "name": "stdout",
     "output_type": "stream",
     "text": [
      "The input list is:[{'gfg': 2, 'is': 4, 'best': 5}, {'it': 3, 'is': 7, 'best': 9}, {'CS': 8}]\n",
      "The merged dictionary is :{'gfg': [2], 'CS': [8], 'best': [9, 5], 'it': [3], 'is': [4, 7]}\n"
     ]
    }
   ],
   "source": [
    "#Initialize the list\n",
    "\n",
    "input_list = [ {'gfg' : 2 , 'is' : 4, 'best' : 5 },\n",
    "            {'it' : 3 , 'is' : 7 , 'best' :  9},\n",
    "            {'CS' : 8}]\n",
    "\n",
    "print (\"The input list is:\" + str(input_list))\n",
    "\n",
    "# using list comprehension + dictionary comprehension \n",
    "# Merge Python key values to list \n",
    "\n",
    "\n",
    "res = {key: list({sub[key] for sub in input_list if key in sub}) \n",
    "      for key in {key for sub in input_list for key in sub}} \n",
    "\n",
    "print(\"The merged dictionary is :\" + str(res))"
   ]
  },
  {
   "cell_type": "code",
   "execution_count": null,
   "metadata": {},
   "outputs": [],
   "source": []
  }
 ],
 "metadata": {
  "kernelspec": {
   "display_name": "Python 3",
   "language": "python",
   "name": "python3"
  },
  "language_info": {
   "codemirror_mode": {
    "name": "ipython",
    "version": 3
   },
   "file_extension": ".py",
   "mimetype": "text/x-python",
   "name": "python",
   "nbconvert_exporter": "python",
   "pygments_lexer": "ipython3",
   "version": "3.7.0"
  }
 },
 "nbformat": 4,
 "nbformat_minor": 2
}
