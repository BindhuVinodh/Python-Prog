{
 "cells": [
  {
   "cell_type": "markdown",
   "metadata": {},
   "source": [
    "Find Median of List in Python\n",
    "Sometimes, while working with Python list we can have a problem in which we need to find Median of list. This problem is quite common in the mathematical domains and generic calculations. Let’s discuss certain ways in which this task can be performed.\n",
    "\n",
    "\n"
   ]
  },
  {
   "cell_type": "markdown",
   "metadata": {},
   "source": [
    "Method #1 : Using loop + \"~\" operator\n",
    "This task can be performed in brute force manner using the combination of above functionalities. In this, we sort the list and the by using the property of “~” operator to perform negation, we access the list from front and rear, performing the required computation required for finding median.\n",
    "\n"
   ]
  },
  {
   "cell_type": "code",
   "execution_count": 13,
   "metadata": {},
   "outputs": [
    {
     "name": "stdout",
     "output_type": "stream",
     "text": [
      "The Input list is:[4, 5, 8, 9, 10, 17, 19]\n",
      "The Median of the list is:9.0\n"
     ]
    }
   ],
   "source": [
    "# initializing list \n",
    "test_list = [4, 5, 8, 9, 10, 17,19] \n",
    "\n",
    "print(\"The Input list is:\" + str(test_list))\n",
    "\n",
    "test_list.sort()\n",
    "\n",
    "mid = len(test_list) // 2\n",
    "\n",
    "Median = (test_list[mid] + test_list[~mid])/2\n",
    "\n",
    "print (\"The Median of the list is:\" + str(Median))\n"
   ]
  },
  {
   "cell_type": "markdown",
   "metadata": {},
   "source": [
    "Method #2 : Using statistics.median()\n",
    "This is the most generic method to perform this task. In this we directly use inbuilt function to perform the median of the list.\n",
    "\n"
   ]
  },
  {
   "cell_type": "code",
   "execution_count": null,
   "metadata": {},
   "outputs": [],
   "source": [
    "import statistics\n",
    "\n",
    "test_list = [6,34,19,47,2,10]\n",
    "\n",
    "print(\"The input list is:\" + str(test_list))\n",
    "\n",
    "\n",
    "res = statistics.median"
   ]
  },
  {
   "cell_type": "code",
   "execution_count": null,
   "metadata": {},
   "outputs": [],
   "source": []
  }
 ],
 "metadata": {
  "kernelspec": {
   "display_name": "Python 3",
   "language": "python",
   "name": "python3"
  },
  "language_info": {
   "codemirror_mode": {
    "name": "ipython",
    "version": 3
   },
   "file_extension": ".py",
   "mimetype": "text/x-python",
   "name": "python",
   "nbconvert_exporter": "python",
   "pygments_lexer": "ipython3",
   "version": "3.7.0"
  }
 },
 "nbformat": 4,
 "nbformat_minor": 2
}
